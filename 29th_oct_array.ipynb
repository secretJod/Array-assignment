{
 "cells": [
  {
   "cell_type": "markdown",
   "id": "02a6bbb0-a5b5-4ce5-a289-8e9cde837fe1",
   "metadata": {},
   "source": [
    "1. Given an array, check if it contains any duplicates or not.\n",
    "arr = [1, 2, 4, 2, 5, 9]\n",
    "Output = True"
   ]
  },
  {
   "cell_type": "code",
   "execution_count": 3,
   "id": "5e1fc5b6-2d56-4d1d-812b-77f4eeb039fb",
   "metadata": {},
   "outputs": [
    {
     "name": "stdout",
     "output_type": "stream",
     "text": [
      "is that array contain dublicate : True\n"
     ]
    }
   ],
   "source": [
    "def dubliate(arr):\n",
    "    n=len(arr)\n",
    "    for i in range(n): \n",
    "        for j in range(i+1,n):\n",
    "            if arr[i]==arr[j]:\n",
    "                return True\n",
    "    return False\n",
    "arr = [1, 2, 4, 2, 5, 9]\n",
    "print(\"is that array contain dublicate :\",dubliate(arr))"
   ]
  },
  {
   "cell_type": "markdown",
   "id": "f5ee926f-c7b8-46cd-9c7a-9c756982efe7",
   "metadata": {},
   "source": [
    "\n",
    "\n",
    "2. Given an array and an integer k, rotate the array to the right by k steps.\n",
    "arr = [1, 2, 3, 4, 5, 6, 7] k = 3\n",
    "Output = [5, 6, 7, 1, 2, 3, 4]"
   ]
  },
  {
   "cell_type": "code",
   "execution_count": 4,
   "id": "9e5bb475-c28f-4c7d-bbcb-c258fc727e1d",
   "metadata": {},
   "outputs": [
    {
     "name": "stdin",
     "output_type": "stream",
     "text": [
      "enter the number to. rotate a array 3\n"
     ]
    },
    {
     "name": "stdout",
     "output_type": "stream",
     "text": [
      "[5, 6, 7, 1, 2, 3, 4]\n"
     ]
    }
   ],
   "source": [
    "def rotate(nums,k):\n",
    "    nums.reverse()\n",
    "    nums[:k] = reversed(nums[:k])\n",
    "    nums[k:] = reversed(nums[k:])\n",
    "    return nums\n",
    "k = int(input(\"enter the number to. rotate a array\"))\n",
    "arr = [1,2,3,4,5,6,7]\n",
    "print(rotate(arr,k))"
   ]
  },
  {
   "cell_type": "markdown",
   "id": "54d39244-1465-43bc-a9c3-d5c3077a6f86",
   "metadata": {},
   "source": [
    "3.Reverse the given array in-place, means without using any extra data structure. arr = [2, 4, 5, 7, 9, 12] Output = [12, 9, 7, 5, 4, 2]"
   ]
  },
  {
   "cell_type": "code",
   "execution_count": 4,
   "id": "865fcd49-357c-485e-adaf-27fd09096780",
   "metadata": {},
   "outputs": [
    {
     "name": "stdout",
     "output_type": "stream",
     "text": [
      "[12, 9, 7, 5, 4, 2]\n"
     ]
    }
   ],
   "source": [
    "def reverse_array(arr):                           #crreate a funtion name as reverse\n",
    "    left=0                                        #\n",
    "    right=len(arr)-1\n",
    "    while left < right:\n",
    "        arr[left],arr[right]=arr[right],arr[left]\n",
    "        left+=1\n",
    "        right-=1\n",
    "\n",
    "arr = [2, 4, 5, 7, 9, 12]\n",
    "reverse_array(arr)\n",
    "print(arr)"
   ]
  },
  {
   "cell_type": "markdown",
   "id": "c8e60c41-268e-4c4d-b6ec-a3d62c223451",
   "metadata": {},
   "source": [
    "4.Given an array of integers, find the maximum element in an array arr = [10, 5, 20, 8, 15] Output = 20"
   ]
  },
  {
   "cell_type": "code",
   "execution_count": 6,
   "id": "1eb6a535-66f8-4a93-a9ba-35118e45f313",
   "metadata": {},
   "outputs": [
    {
     "name": "stdout",
     "output_type": "stream",
     "text": [
      "here is the maximum value of an array: 20\n"
     ]
    }
   ],
   "source": [
    "def maxi(arr):                   #creating function name \"maxi\"\n",
    "    maxi=0                       #intiating maxi with zero\n",
    "    for i in range(len(arr)-1):  #using a loop for iteration\n",
    "        if arr[i]>maxi:          #using if statement checking if maxi is smaller then arr[i] \n",
    "            maxi=arr[i]          #if statement is true then maxi = arr[i]\n",
    "    return maxi                  #return maxi value\n",
    "arr = [10, 5, 20, 8, 15]\n",
    "maxi_of_arr=maxi(arr)            #apply the function on a given array\n",
    "print(\"here is the maximum value of an array:\",maxi_of_arr)  #print the maxi value"
   ]
  },
  {
   "cell_type": "markdown",
   "id": "2bb7e431-72a6-4d64-9ea9-1dceb0168601",
   "metadata": {},
   "source": [
    "5. Given a sorted array, remove the duplicate element without using any extra data structure.\n",
    "arr = [1, 1, 2, 2, 2, 3, 3, 4, 4, 4, 5, 5]\n",
    "Output = [1, 2, 3, 4, 5]"
   ]
  },
  {
   "cell_type": "code",
   "execution_count": 4,
   "id": "78d867b3-c0d0-434a-b1ec-9d0e963d967d",
   "metadata": {},
   "outputs": [
    {
     "name": "stdout",
     "output_type": "stream",
     "text": [
      "[1, 2, 3, 4, 5]\n"
     ]
    }
   ],
   "source": [
    "def remove_dublicate(arr):\n",
    "    if not arr:\n",
    "        return []\n",
    "    index=0\n",
    "    for i in range(1,len(arr)):\n",
    "        if arr[i]!=arr[index]:\n",
    "            index+=1\n",
    "            arr[index]=arr[i]\n",
    "        \n",
    "    return arr[:index +1]\n",
    "            \n",
    "        \n",
    "        \n",
    "arr = [1, 1, 2, 2, 2, 3, 3, 4, 4, 4, 5, 5]\n",
    "remove_dublicate=remove_dublicate(arr)\n",
    "print(remove_dublicate)"
   ]
  },
  {
   "cell_type": "code",
   "execution_count": null,
   "id": "acc4708e-4a37-4e55-b7ba-d337a931b1a6",
   "metadata": {},
   "outputs": [],
   "source": []
  }
 ],
 "metadata": {
  "kernelspec": {
   "display_name": "Python 3 (ipykernel)",
   "language": "python",
   "name": "python3"
  },
  "language_info": {
   "codemirror_mode": {
    "name": "ipython",
    "version": 3
   },
   "file_extension": ".py",
   "mimetype": "text/x-python",
   "name": "python",
   "nbconvert_exporter": "python",
   "pygments_lexer": "ipython3",
   "version": "3.10.8"
  }
 },
 "nbformat": 4,
 "nbformat_minor": 5
}
